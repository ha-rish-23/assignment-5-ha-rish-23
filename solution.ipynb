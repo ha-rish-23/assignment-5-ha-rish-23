{
 "cells": [
  {
   "cell_type": "markdown",
   "id": "059d3bd8",
   "metadata": {},
   "source": [
    "# Assignment 5 - Visualizing Data Veracity Challenges in Multi-Label Classification"
   ]
  },
  {
   "cell_type": "code",
   "execution_count": 4,
   "id": "2c8ace00",
   "metadata": {},
   "outputs": [],
   "source": [
    "import pandas as pd\n",
    "import numpy as np\n",
    "from sklearn.model_selection import train_test_split\n",
    "from sklearn.preprocessing import StandardScaler\n",
    "from sklearn.linear_model import LogisticRegression\n",
    "from sklearn.metrics import classification_report\n",
    "import matplotlib.pyplot as plt\n",
    "import seaborn as sns\n",
    "# Data Loading\n",
    "from scipy.io import arff"
   ]
  },
  {
   "cell_type": "markdown",
   "id": "617b5e93",
   "metadata": {},
   "source": [
    "## Part A: Preprocessing and Initial Setup"
   ]
  },
  {
   "cell_type": "code",
   "execution_count": 6,
   "id": "ec970495",
   "metadata": {},
   "outputs": [
    {
     "name": "stdout",
     "output_type": "stream",
     "text": [
      "Feature columns: 103 (from Att1 to Att103)\n",
      "Label columns: 14 (from Class1 to Class14)\n",
      "Features (X) shape: (2417, 103)\n",
      "Labels (Y) shape: (2417, 14)\n",
      "Number of samples: 2417\n",
      "Number of features: 103\n",
      "Number of labels: 14\n"
     ]
    }
   ],
   "source": [
    "# Load the yeast dataset\n",
    "data, meta = arff.loadarff('dataset/yeast.arff')\n",
    "\n",
    "# Convert to pandas DataFrame\n",
    "df = pd.DataFrame(data)\n",
    "\n",
    "# Get column names\n",
    "columns = df.columns.tolist()\n",
    "\n",
    "# Find where features end and labels begin\n",
    "# Features are named 'Att1', 'Att2', etc.\n",
    "# Labels are named 'Class1', 'Class2', etc.\n",
    "feature_cols = [col for col in columns if col.startswith('Att')]\n",
    "label_cols = [col for col in columns if col.startswith('Class')]\n",
    "\n",
    "print(f\"Feature columns: {len(feature_cols)} (from {feature_cols[0]} to {feature_cols[-1]})\")\n",
    "print(f\"Label columns: {len(label_cols)} (from {label_cols[0]} to {label_cols[-1]})\")\n",
    "\n",
    "# Separate features (X) and labels (Y)\n",
    "X = df[feature_cols].astype(float)\n",
    "Y = df[label_cols].astype(int)\n",
    "\n",
    "# Print dimensions\n",
    "print(f\"Features (X) shape: {X.shape}\")\n",
    "print(f\"Labels (Y) shape: {Y.shape}\")\n",
    "print(f\"Number of samples: {X.shape[0]}\")\n",
    "print(f\"Number of features: {X.shape[1]}\")\n",
    "print(f\"Number of labels: {Y.shape[1]}\")"
   ]
  },
  {
   "cell_type": "code",
   "execution_count": null,
   "id": "8d60b26d",
   "metadata": {},
   "outputs": [
    {
     "name": "stdout",
     "output_type": "stream",
     "text": [
      "Top 20 frequent label combinations:\n",
      "00110000000110    237\n",
      "00011000000110    233\n",
      "11000000000110    172\n",
      "11000000000000    131\n",
      "01100000000110    117\n",
      "00001100000110    105\n",
      "00000011000110     75\n",
      "01100000000000     68\n",
      "00001111000110     60\n",
      "10000000000110     59\n",
      "Name: count, dtype: int64\n",
      "\n",
      "Most frequent single-label classes:\n",
      "10000000000000    32\n",
      "Name: count, dtype: int64\n",
      "\n",
      "Most frequent multi-label combinations:\n",
      "00110000000110    237\n",
      "00011000000110    233\n",
      "11000000000110    172\n",
      "11000000000000    131\n",
      "01100000000110    117\n",
      "Name: count, dtype: int64\n",
      "\n",
      "Top 2 single-label classes: ['10000000000000']\n",
      "Top multi-label combination: 00110000000110\n",
      "\n",
      "Distribution of visualization target variable:\n",
      "Other                       2148\n",
      "Multi: 00110000000110        237\n",
      "Single-1: 10000000000000      32\n",
      "Name: count, dtype: int64\n",
      "\n",
      "Total samples: 2417\n"
     ]
    }
   ],
   "source": [
    "# Label Selection for visualization\n",
    "\n",
    "# Create label combinations as strings for easier analysis\n",
    "Y_combinations = Y.apply(lambda row: ''.join(row.astype(str)), axis=1)\n",
    "\n",
    "# Count frequency of each label combination\n",
    "combination_counts = Y_combinations.value_counts()\n",
    "print(\"Top 10 frequent label combinations:\")\n",
    "print(combination_counts.head(10))\n",
    "print()\n",
    "\n",
    "# Find single-label classes (combinations with exactly one '1')\n",
    "single_label_mask = Y.sum(axis=1) == 1\n",
    "single_label_combinations = Y_combinations[single_label_mask]\n",
    "single_label_counts = single_label_combinations.value_counts()\n",
    "\n",
    "print(\"Most frequent single-label classes:\")\n",
    "print(single_label_counts.head())\n",
    "print()\n",
    "\n",
    "# Find multi-label classes (combinations with more than one '1')\n",
    "multi_label_mask = Y.sum(axis=1) > 1\n",
    "multi_label_combinations = Y_combinations[multi_label_mask]\n",
    "multi_label_counts = multi_label_combinations.value_counts()\n",
    "\n",
    "print(\"Most frequent multi-label combinations:\")\n",
    "print(multi_label_counts.head(5))\n",
    "print()\n",
    "\n",
    "# Get the two most frequent single-label classes\n",
    "top_single_labels = single_label_counts.head(5).index.tolist()\n",
    "print(f\"Top 2 single-label classes: {top_single_labels}\")\n",
    "\n",
    "# Get the most frequent multi-label combination\n",
    "top_multi_label = multi_label_counts.index[0] if len(multi_label_counts) > 0 else None\n",
    "print(f\"Top multi-label combination: {top_multi_label}\")\n",
    "print()\n",
    "\n",
    "# Create visualization target variable\n",
    "visualization_target = []\n",
    "\n",
    "for combination in Y_combinations:\n",
    "    if combination in top_single_labels:\n",
    "        # Find which single label this is\n",
    "        if combination == top_single_labels[0]:\n",
    "            visualization_target.append(f\"Single-1: {combination}\")\n",
    "        else:\n",
    "            visualization_target.append(f\"Single-2: {combination}\")\n",
    "    elif combination == top_multi_label:\n",
    "        visualization_target.append(f\"Multi: {combination}\")\n",
    "    else:\n",
    "        visualization_target.append(\"Other\")\n",
    "\n",
    "# Convert to pandas Series\n",
    "visualization_target = pd.Series(visualization_target)\n",
    "\n",
    "# Display the distribution of the new target variable\n",
    "print(\"Distribution of visualization target variable:\")\n",
    "print(visualization_target.value_counts())\n",
    "print()\n",
    "print(f\"Total samples: {len(visualization_target)}\")"
   ]
  },
  {
   "cell_type": "code",
   "execution_count": null,
   "id": "4e352117",
   "metadata": {},
   "outputs": [],
   "source": []
  }
 ],
 "metadata": {
  "kernelspec": {
   "display_name": "venvfordal",
   "language": "python",
   "name": "python3"
  },
  "language_info": {
   "codemirror_mode": {
    "name": "ipython",
    "version": 3
   },
   "file_extension": ".py",
   "mimetype": "text/x-python",
   "name": "python",
   "nbconvert_exporter": "python",
   "pygments_lexer": "ipython3",
   "version": "3.12.3"
  }
 },
 "nbformat": 4,
 "nbformat_minor": 5
}
